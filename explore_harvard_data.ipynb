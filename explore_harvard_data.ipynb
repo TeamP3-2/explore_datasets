{
 "cells": [
  {
   "cell_type": "code",
   "execution_count": 1,
   "metadata": {},
   "outputs": [],
   "source": [
    "import os\n",
    "import pandas as pd\n",
    "import networkx as nx\n",
    "\n",
    "from sklearn.cluster import KMeans\n",
    "\n",
    "import matplotlib.pyplot as plt\n",
    "plt.style.use('ggplot')"
   ]
  },
  {
   "cell_type": "code",
   "execution_count": 28,
   "metadata": {},
   "outputs": [],
   "source": [
    "path = \"data\\\\harvard\\\\HXPC13_DI_v3_11-13-2019.csv\""
   ]
  },
  {
   "cell_type": "code",
   "execution_count": 3,
   "metadata": {},
   "outputs": [],
   "source": [
    "data = pd.read_csv(path)"
   ]
  },
  {
   "cell_type": "code",
   "execution_count": 4,
   "metadata": {},
   "outputs": [
    {
     "name": "stdout",
     "output_type": "stream",
     "text": [
      "<class 'pandas.core.frame.DataFrame'>\n",
      "RangeIndex: 338223 entries, 0 to 338222\n",
      "Data columns (total 20 columns):\n",
      " #   Column             Non-Null Count   Dtype  \n",
      "---  ------             --------------   -----  \n",
      " 0   course_id          338223 non-null  object \n",
      " 1   userid_DI          338223 non-null  object \n",
      " 2   registered         338223 non-null  int64  \n",
      " 3   viewed             338223 non-null  int64  \n",
      " 4   explored           338223 non-null  int64  \n",
      " 5   certified          338223 non-null  int64  \n",
      " 6   final_cc_cname_DI  338223 non-null  object \n",
      " 7   LoE_DI             294104 non-null  object \n",
      " 8   YoB                299719 non-null  float64\n",
      " 9   gender             305262 non-null  object \n",
      " 10  grade              312333 non-null  object \n",
      " 11  start_time_DI      338223 non-null  object \n",
      " 12  last_event_DI      185992 non-null  object \n",
      " 13  nevents            178945 non-null  float64\n",
      " 14  ndays_act          195713 non-null  float64\n",
      " 15  nplay_video        33277 non-null   float64\n",
      " 16  nchapters          193758 non-null  float64\n",
      " 17  nforum_posts       338223 non-null  int64  \n",
      " 18  roles              0 non-null       float64\n",
      " 19  incomplete_flag    77385 non-null   float64\n",
      "dtypes: float64(7), int64(5), object(8)\n",
      "memory usage: 51.6+ MB\n"
     ]
    }
   ],
   "source": [
    "data.info()"
   ]
  },
  {
   "cell_type": "code",
   "execution_count": 5,
   "metadata": {},
   "outputs": [
    {
     "data": {
      "text/html": [
       "<div>\n",
       "<style scoped>\n",
       "    .dataframe tbody tr th:only-of-type {\n",
       "        vertical-align: middle;\n",
       "    }\n",
       "\n",
       "    .dataframe tbody tr th {\n",
       "        vertical-align: top;\n",
       "    }\n",
       "\n",
       "    .dataframe thead th {\n",
       "        text-align: right;\n",
       "    }\n",
       "</style>\n",
       "<table border=\"1\" class=\"dataframe\">\n",
       "  <thead>\n",
       "    <tr style=\"text-align: right;\">\n",
       "      <th></th>\n",
       "      <th>course_id</th>\n",
       "      <th>userid_DI</th>\n",
       "      <th>registered</th>\n",
       "      <th>viewed</th>\n",
       "      <th>explored</th>\n",
       "      <th>certified</th>\n",
       "      <th>final_cc_cname_DI</th>\n",
       "      <th>LoE_DI</th>\n",
       "      <th>YoB</th>\n",
       "      <th>gender</th>\n",
       "      <th>grade</th>\n",
       "      <th>start_time_DI</th>\n",
       "      <th>last_event_DI</th>\n",
       "      <th>nevents</th>\n",
       "      <th>ndays_act</th>\n",
       "      <th>nplay_video</th>\n",
       "      <th>nchapters</th>\n",
       "      <th>nforum_posts</th>\n",
       "      <th>roles</th>\n",
       "      <th>incomplete_flag</th>\n",
       "    </tr>\n",
       "  </thead>\n",
       "  <tbody>\n",
       "    <tr>\n",
       "      <th>0</th>\n",
       "      <td>HarvardX/CB22x/2013_Spring</td>\n",
       "      <td>MHxPC130442623</td>\n",
       "      <td>1</td>\n",
       "      <td>0</td>\n",
       "      <td>0</td>\n",
       "      <td>0</td>\n",
       "      <td>United States</td>\n",
       "      <td>NaN</td>\n",
       "      <td>NaN</td>\n",
       "      <td>NaN</td>\n",
       "      <td>0</td>\n",
       "      <td>12/19/12</td>\n",
       "      <td>11/17/13</td>\n",
       "      <td>NaN</td>\n",
       "      <td>9.0</td>\n",
       "      <td>NaN</td>\n",
       "      <td>NaN</td>\n",
       "      <td>0</td>\n",
       "      <td>NaN</td>\n",
       "      <td>1.0</td>\n",
       "    </tr>\n",
       "    <tr>\n",
       "      <th>1</th>\n",
       "      <td>HarvardX/CB22x/2013_Spring</td>\n",
       "      <td>MHxPC130275857</td>\n",
       "      <td>1</td>\n",
       "      <td>0</td>\n",
       "      <td>0</td>\n",
       "      <td>0</td>\n",
       "      <td>United States</td>\n",
       "      <td>NaN</td>\n",
       "      <td>NaN</td>\n",
       "      <td>NaN</td>\n",
       "      <td>0</td>\n",
       "      <td>2/8/13</td>\n",
       "      <td>11/17/13</td>\n",
       "      <td>NaN</td>\n",
       "      <td>16.0</td>\n",
       "      <td>NaN</td>\n",
       "      <td>NaN</td>\n",
       "      <td>0</td>\n",
       "      <td>NaN</td>\n",
       "      <td>1.0</td>\n",
       "    </tr>\n",
       "    <tr>\n",
       "      <th>2</th>\n",
       "      <td>HarvardX/CB22x/2013_Spring</td>\n",
       "      <td>MHxPC130539455</td>\n",
       "      <td>1</td>\n",
       "      <td>1</td>\n",
       "      <td>0</td>\n",
       "      <td>0</td>\n",
       "      <td>France</td>\n",
       "      <td>NaN</td>\n",
       "      <td>NaN</td>\n",
       "      <td>NaN</td>\n",
       "      <td>0</td>\n",
       "      <td>1/1/13</td>\n",
       "      <td>5/14/13</td>\n",
       "      <td>42.0</td>\n",
       "      <td>6.0</td>\n",
       "      <td>NaN</td>\n",
       "      <td>3.0</td>\n",
       "      <td>0</td>\n",
       "      <td>NaN</td>\n",
       "      <td>NaN</td>\n",
       "    </tr>\n",
       "    <tr>\n",
       "      <th>3</th>\n",
       "      <td>HarvardX/CB22x/2013_Spring</td>\n",
       "      <td>MHxPC130088379</td>\n",
       "      <td>1</td>\n",
       "      <td>1</td>\n",
       "      <td>0</td>\n",
       "      <td>0</td>\n",
       "      <td>United States</td>\n",
       "      <td>NaN</td>\n",
       "      <td>NaN</td>\n",
       "      <td>NaN</td>\n",
       "      <td>0</td>\n",
       "      <td>2/18/13</td>\n",
       "      <td>3/17/13</td>\n",
       "      <td>70.0</td>\n",
       "      <td>3.0</td>\n",
       "      <td>NaN</td>\n",
       "      <td>3.0</td>\n",
       "      <td>0</td>\n",
       "      <td>NaN</td>\n",
       "      <td>NaN</td>\n",
       "    </tr>\n",
       "    <tr>\n",
       "      <th>4</th>\n",
       "      <td>HarvardX/CB22x/2013_Spring</td>\n",
       "      <td>MHxPC130024894</td>\n",
       "      <td>1</td>\n",
       "      <td>1</td>\n",
       "      <td>0</td>\n",
       "      <td>0</td>\n",
       "      <td>United States</td>\n",
       "      <td>NaN</td>\n",
       "      <td>NaN</td>\n",
       "      <td>NaN</td>\n",
       "      <td>0.07</td>\n",
       "      <td>1/24/13</td>\n",
       "      <td>8/3/13</td>\n",
       "      <td>175.0</td>\n",
       "      <td>9.0</td>\n",
       "      <td>NaN</td>\n",
       "      <td>7.0</td>\n",
       "      <td>0</td>\n",
       "      <td>NaN</td>\n",
       "      <td>NaN</td>\n",
       "    </tr>\n",
       "  </tbody>\n",
       "</table>\n",
       "</div>"
      ],
      "text/plain": [
       "                    course_id       userid_DI  registered  viewed  explored  \\\n",
       "0  HarvardX/CB22x/2013_Spring  MHxPC130442623           1       0         0   \n",
       "1  HarvardX/CB22x/2013_Spring  MHxPC130275857           1       0         0   \n",
       "2  HarvardX/CB22x/2013_Spring  MHxPC130539455           1       1         0   \n",
       "3  HarvardX/CB22x/2013_Spring  MHxPC130088379           1       1         0   \n",
       "4  HarvardX/CB22x/2013_Spring  MHxPC130024894           1       1         0   \n",
       "\n",
       "   certified final_cc_cname_DI LoE_DI  YoB gender grade start_time_DI  \\\n",
       "0          0     United States    NaN  NaN    NaN     0      12/19/12   \n",
       "1          0     United States    NaN  NaN    NaN     0        2/8/13   \n",
       "2          0            France    NaN  NaN    NaN     0        1/1/13   \n",
       "3          0     United States    NaN  NaN    NaN     0       2/18/13   \n",
       "4          0     United States    NaN  NaN    NaN  0.07       1/24/13   \n",
       "\n",
       "  last_event_DI  nevents  ndays_act  nplay_video  nchapters  nforum_posts  \\\n",
       "0      11/17/13      NaN        9.0          NaN        NaN             0   \n",
       "1      11/17/13      NaN       16.0          NaN        NaN             0   \n",
       "2       5/14/13     42.0        6.0          NaN        3.0             0   \n",
       "3       3/17/13     70.0        3.0          NaN        3.0             0   \n",
       "4        8/3/13    175.0        9.0          NaN        7.0             0   \n",
       "\n",
       "   roles  incomplete_flag  \n",
       "0    NaN              1.0  \n",
       "1    NaN              1.0  \n",
       "2    NaN              NaN  \n",
       "3    NaN              NaN  \n",
       "4    NaN              NaN  "
      ]
     },
     "execution_count": 5,
     "metadata": {},
     "output_type": "execute_result"
    }
   ],
   "source": [
    "data.head()"
   ]
  },
  {
   "cell_type": "markdown",
   "metadata": {},
   "source": [
    "## userid\n",
    "\n",
    "explor the number of interactions of users in the dataset"
   ]
  },
  {
   "cell_type": "code",
   "execution_count": null,
   "metadata": {},
   "outputs": [
    {
     "data": {
      "text/plain": [
       "338223"
      ]
     },
     "execution_count": 23,
     "metadata": {},
     "output_type": "execute_result"
    }
   ],
   "source": [
    "data.__len__()"
   ]
  },
  {
   "cell_type": "code",
   "execution_count": null,
   "metadata": {},
   "outputs": [
    {
     "data": {
      "text/plain": [
       "301609"
      ]
     },
     "execution_count": 24,
     "metadata": {},
     "output_type": "execute_result"
    }
   ],
   "source": [
    "data.userid_DI.nunique()"
   ]
  },
  {
   "cell_type": "code",
   "execution_count": 27,
   "metadata": {},
   "outputs": [
    {
     "name": "stdout",
     "output_type": "stream",
     "text": [
      "number of interaction per user in harvard dataset :  1.1213955816968326\n"
     ]
    }
   ],
   "source": [
    "print(\"number of interaction per user in harvard dataset : \", data.__len__() / data.userid_DI.nunique())"
   ]
  },
  {
   "cell_type": "code",
   "execution_count": null,
   "metadata": {},
   "outputs": [
    {
     "data": {
      "text/plain": [
       "userid_DI\n",
       "MHxPC130506390    5\n",
       "MHxPC130314286    5\n",
       "MHxPC130223277    5\n",
       "MHxPC130362373    5\n",
       "MHxPC130478289    5\n",
       "Name: count, dtype: int64"
      ]
     },
     "execution_count": 25,
     "metadata": {},
     "output_type": "execute_result"
    }
   ],
   "source": [
    "data.userid_DI.value_counts().head()"
   ]
  },
  {
   "cell_type": "markdown",
   "metadata": {},
   "source": [
    "### notes\n",
    "- the number of interaction per user is too low "
   ]
  },
  {
   "cell_type": "markdown",
   "metadata": {},
   "source": [
    "## course_id"
   ]
  },
  {
   "cell_type": "code",
   "execution_count": 8,
   "metadata": {},
   "outputs": [
    {
     "data": {
      "text/plain": [
       "array(['HarvardX/CB22x/2013_Spring', 'HarvardX/CS50x/2012',\n",
       "       'HarvardX/ER22x/2013_Spring', 'HarvardX/PH207x/2012_Fall',\n",
       "       'HarvardX/PH278x/2013_Spring'], dtype=object)"
      ]
     },
     "execution_count": 8,
     "metadata": {},
     "output_type": "execute_result"
    }
   ],
   "source": [
    "data.course_id.unique()"
   ]
  },
  {
   "cell_type": "markdown",
   "metadata": {},
   "source": [
    "## explor null distribution"
   ]
  },
  {
   "cell_type": "code",
   "execution_count": 9,
   "metadata": {},
   "outputs": [
    {
     "data": {
      "text/plain": [
       "<Axes: >"
      ]
     },
     "execution_count": 9,
     "metadata": {},
     "output_type": "execute_result"
    },
    {
     "data": {
      "image/png": "[encoded data removed]",
      "text/plain": [
       "<Figure size 640x480 with 1 Axes>"
      ]
     },
     "metadata": {},
     "output_type": "display_data"
    }
   ],
   "source": [
    "null_dist = data.isna().mean()\n",
    "null_dist.hist(bins=20)"
   ]
  },
  {
   "cell_type": "markdown",
   "metadata": {},
   "source": [
    "## explor these columns\n",
    "- last_event_DI\n",
    "- nevents\n",
    "- ndays_act\n",
    "- nplay_video\n",
    "- nchapters\n",
    "- roles\n",
    "- incomplete_flag"
   ]
  },
  {
   "cell_type": "code",
   "execution_count": 10,
   "metadata": {},
   "outputs": [
    {
     "data": {
      "text/plain": [
       "<Axes: >"
      ]
     },
     "execution_count": 10,
     "metadata": {},
     "output_type": "execute_result"
    },
    {
     "data": {
      "image/png": "[encoded data removed]",
      "text/plain": [
       "<Figure size 640x480 with 1 Axes>"
      ]
     },
     "metadata": {},
     "output_type": "display_data"
    }
   ],
   "source": [
    "null_dist = null_dist[null_dist > 0.4]\n",
    "null_dist.plot(kind='bar')"
   ]
  },
  {
   "cell_type": "code",
   "execution_count": 11,
   "metadata": {},
   "outputs": [
    {
     "data": {
      "text/plain": [
       "incomplete_flag\n",
       "1.0    77385\n",
       "Name: count, dtype: int64"
      ]
     },
     "execution_count": 11,
     "metadata": {},
     "output_type": "execute_result"
    }
   ],
   "source": [
    "data.incomplete_flag.value_counts()"
   ]
  },
  {
   "cell_type": "markdown",
   "metadata": {},
   "source": [
    "### first impresion on incomplete_flag\n",
    "- if the user leave the course for (period of time) we will flag him \n",
    "- otherwise we will leave it null"
   ]
  },
  {
   "cell_type": "markdown",
   "metadata": {},
   "source": [
    "### first impresion on roles\n",
    "- it's may indecat of the user role like : \"instructor\", \"teaching assistant\", or \"admin\" \n",
    "- but as it completely null, we may drop just it "
   ]
  },
  {
   "cell_type": "code",
   "execution_count": 31,
   "metadata": {},
   "outputs": [
    {
     "data": {
      "text/plain": [
       "5133"
      ]
     },
     "execution_count": 31,
     "metadata": {},
     "output_type": "execute_result"
    }
   ],
   "source": [
    "data.nevents.nunique()"
   ]
  },
  {
   "cell_type": "code",
   "execution_count": 13,
   "metadata": {},
   "outputs": [
    {
     "name": "stderr",
     "output_type": "stream",
     "text": [
      "C:\\Users\\jehad\\AppData\\Local\\Temp\\ipykernel_18424\\2618166311.py:1: UserWarning: Could not infer format, so each element will be parsed individually, falling back to `dateutil`. To ensure parsing is consistent and as-expected, please specify a format.\n",
      "  data['start_time_DI'] =  pd.to_datetime(data['start_time_DI'])\n",
      "C:\\Users\\jehad\\AppData\\Local\\Temp\\ipykernel_18424\\2618166311.py:2: UserWarning: Could not infer format, so each element will be parsed individually, falling back to `dateutil`. To ensure parsing is consistent and as-expected, please specify a format.\n",
      "  data['last_event_DI'] =  pd.to_datetime(data['last_event_DI'])\n"
     ]
    }
   ],
   "source": [
    "data['start_time_DI'] =  pd.to_datetime(data['start_time_DI'])\n",
    "data['last_event_DI'] =  pd.to_datetime(data['last_event_DI'])"
   ]
  },
  {
   "cell_type": "code",
   "execution_count": 14,
   "metadata": {},
   "outputs": [
    {
     "data": {
      "text/plain": [
       "152231"
      ]
     },
     "execution_count": 14,
     "metadata": {},
     "output_type": "execute_result"
    }
   ],
   "source": [
    "data.last_event_DI.isna().sum()"
   ]
  },
  {
   "cell_type": "code",
   "execution_count": 15,
   "metadata": {},
   "outputs": [],
   "source": [
    "temp = data[null_dist.index.values].copy()"
   ]
  },
  {
   "cell_type": "code",
   "execution_count": 16,
   "metadata": {},
   "outputs": [],
   "source": [
    "temp['last_event_DI'] = pd.to_datetime(temp['last_event_DI'])\n",
    "# temp = temp.drop(columns=['roles', 'incomplete_flag'], axis=1)"
   ]
  },
  {
   "cell_type": "code",
   "execution_count": 17,
   "metadata": {},
   "outputs": [
    {
     "data": {
      "text/plain": [
       "Timestamp('2013-04-17 22:18:42.009548800')"
      ]
     },
     "execution_count": 17,
     "metadata": {},
     "output_type": "execute_result"
    }
   ],
   "source": [
    "temp['last_event_DI'].mean()"
   ]
  },
  {
   "cell_type": "code",
   "execution_count": 18,
   "metadata": {},
   "outputs": [
    {
     "data": {
      "text/html": [
       "<div>\n",
       "<style scoped>\n",
       "    .dataframe tbody tr th:only-of-type {\n",
       "        vertical-align: middle;\n",
       "    }\n",
       "\n",
       "    .dataframe tbody tr th {\n",
       "        vertical-align: top;\n",
       "    }\n",
       "\n",
       "    .dataframe thead th {\n",
       "        text-align: right;\n",
       "    }\n",
       "</style>\n",
       "<table border=\"1\" class=\"dataframe\">\n",
       "  <thead>\n",
       "    <tr style=\"text-align: right;\">\n",
       "      <th></th>\n",
       "      <th>last_event_DI</th>\n",
       "      <th>nevents</th>\n",
       "      <th>ndays_act</th>\n",
       "      <th>nplay_video</th>\n",
       "      <th>nchapters</th>\n",
       "      <th>roles</th>\n",
       "      <th>incomplete_flag</th>\n",
       "    </tr>\n",
       "  </thead>\n",
       "  <tbody>\n",
       "    <tr>\n",
       "      <th>last_event_DI</th>\n",
       "      <td>1.000000</td>\n",
       "      <td>0.014327</td>\n",
       "      <td>-0.055452</td>\n",
       "      <td>-0.008534</td>\n",
       "      <td>0.253192</td>\n",
       "      <td>NaN</td>\n",
       "      <td>NaN</td>\n",
       "    </tr>\n",
       "    <tr>\n",
       "      <th>nevents</th>\n",
       "      <td>0.014327</td>\n",
       "      <td>1.000000</td>\n",
       "      <td>0.718681</td>\n",
       "      <td>0.814174</td>\n",
       "      <td>0.444501</td>\n",
       "      <td>NaN</td>\n",
       "      <td>NaN</td>\n",
       "    </tr>\n",
       "    <tr>\n",
       "      <th>ndays_act</th>\n",
       "      <td>-0.055452</td>\n",
       "      <td>0.718681</td>\n",
       "      <td>1.000000</td>\n",
       "      <td>0.625898</td>\n",
       "      <td>0.607456</td>\n",
       "      <td>NaN</td>\n",
       "      <td>NaN</td>\n",
       "    </tr>\n",
       "    <tr>\n",
       "      <th>nplay_video</th>\n",
       "      <td>-0.008534</td>\n",
       "      <td>0.814174</td>\n",
       "      <td>0.625898</td>\n",
       "      <td>1.000000</td>\n",
       "      <td>0.500819</td>\n",
       "      <td>NaN</td>\n",
       "      <td>NaN</td>\n",
       "    </tr>\n",
       "    <tr>\n",
       "      <th>nchapters</th>\n",
       "      <td>0.253192</td>\n",
       "      <td>0.444501</td>\n",
       "      <td>0.607456</td>\n",
       "      <td>0.500819</td>\n",
       "      <td>1.000000</td>\n",
       "      <td>NaN</td>\n",
       "      <td>NaN</td>\n",
       "    </tr>\n",
       "    <tr>\n",
       "      <th>roles</th>\n",
       "      <td>NaN</td>\n",
       "      <td>NaN</td>\n",
       "      <td>NaN</td>\n",
       "      <td>NaN</td>\n",
       "      <td>NaN</td>\n",
       "      <td>NaN</td>\n",
       "      <td>NaN</td>\n",
       "    </tr>\n",
       "    <tr>\n",
       "      <th>incomplete_flag</th>\n",
       "      <td>NaN</td>\n",
       "      <td>NaN</td>\n",
       "      <td>NaN</td>\n",
       "      <td>NaN</td>\n",
       "      <td>NaN</td>\n",
       "      <td>NaN</td>\n",
       "      <td>NaN</td>\n",
       "    </tr>\n",
       "  </tbody>\n",
       "</table>\n",
       "</div>"
      ],
      "text/plain": [
       "                 last_event_DI   nevents  ndays_act  nplay_video  nchapters  \\\n",
       "last_event_DI         1.000000  0.014327  -0.055452    -0.008534   0.253192   \n",
       "nevents               0.014327  1.000000   0.718681     0.814174   0.444501   \n",
       "ndays_act            -0.055452  0.718681   1.000000     0.625898   0.607456   \n",
       "nplay_video          -0.008534  0.814174   0.625898     1.000000   0.500819   \n",
       "nchapters             0.253192  0.444501   0.607456     0.500819   1.000000   \n",
       "roles                      NaN       NaN        NaN          NaN        NaN   \n",
       "incomplete_flag            NaN       NaN        NaN          NaN        NaN   \n",
       "\n",
       "                 roles  incomplete_flag  \n",
       "last_event_DI      NaN              NaN  \n",
       "nevents            NaN              NaN  \n",
       "ndays_act          NaN              NaN  \n",
       "nplay_video        NaN              NaN  \n",
       "nchapters          NaN              NaN  \n",
       "roles              NaN              NaN  \n",
       "incomplete_flag    NaN              NaN  "
      ]
     },
     "execution_count": 18,
     "metadata": {},
     "output_type": "execute_result"
    }
   ],
   "source": [
    "temp.corr()"
   ]
  },
  {
   "cell_type": "markdown",
   "metadata": {},
   "source": [
    "### first impresion on other columns\n",
    "#### value corr\n",
    "these columns\n",
    "- nevents\t\n",
    "- ndays_act\n",
    "- nplay_video\n",
    "- nchapters   \n",
    "all of these have high correlation between them which make sense "
   ]
  },
  {
   "cell_type": "code",
   "execution_count": 19,
   "metadata": {},
   "outputs": [],
   "source": [
    "temp[temp.columns] = temp[temp.columns].isna()\n",
    "temp[temp.columns] = temp[temp.columns].astype(int)"
   ]
  },
  {
   "cell_type": "code",
   "execution_count": 20,
   "metadata": {},
   "outputs": [
    {
     "data": {
      "text/html": [
       "<div>\n",
       "<style scoped>\n",
       "    .dataframe tbody tr th:only-of-type {\n",
       "        vertical-align: middle;\n",
       "    }\n",
       "\n",
       "    .dataframe tbody tr th {\n",
       "        vertical-align: top;\n",
       "    }\n",
       "\n",
       "    .dataframe thead th {\n",
       "        text-align: right;\n",
       "    }\n",
       "</style>\n",
       "<table border=\"1\" class=\"dataframe\">\n",
       "  <thead>\n",
       "    <tr style=\"text-align: right;\">\n",
       "      <th></th>\n",
       "      <th>last_event_DI</th>\n",
       "      <th>nevents</th>\n",
       "      <th>ndays_act</th>\n",
       "      <th>nplay_video</th>\n",
       "      <th>nchapters</th>\n",
       "      <th>roles</th>\n",
       "      <th>incomplete_flag</th>\n",
       "    </tr>\n",
       "  </thead>\n",
       "  <tbody>\n",
       "    <tr>\n",
       "      <th>last_event_DI</th>\n",
       "      <td>1.000000</td>\n",
       "      <td>0.958929</td>\n",
       "      <td>0.874306</td>\n",
       "      <td>0.298858</td>\n",
       "      <td>0.263502</td>\n",
       "      <td>NaN</td>\n",
       "      <td>-0.582110</td>\n",
       "    </tr>\n",
       "    <tr>\n",
       "      <th>nevents</th>\n",
       "      <td>0.958929</td>\n",
       "      <td>1.000000</td>\n",
       "      <td>0.904471</td>\n",
       "      <td>0.311638</td>\n",
       "      <td>0.309690</td>\n",
       "      <td>NaN</td>\n",
       "      <td>-0.577331</td>\n",
       "    </tr>\n",
       "    <tr>\n",
       "      <th>ndays_act</th>\n",
       "      <td>0.874306</td>\n",
       "      <td>0.904471</td>\n",
       "      <td>1.000000</td>\n",
       "      <td>0.281886</td>\n",
       "      <td>0.254478</td>\n",
       "      <td>NaN</td>\n",
       "      <td>-0.399286</td>\n",
       "    </tr>\n",
       "    <tr>\n",
       "      <th>nplay_video</th>\n",
       "      <td>0.298858</td>\n",
       "      <td>0.311638</td>\n",
       "      <td>0.281886</td>\n",
       "      <td>1.000000</td>\n",
       "      <td>0.285201</td>\n",
       "      <td>NaN</td>\n",
       "      <td>-0.179906</td>\n",
       "    </tr>\n",
       "    <tr>\n",
       "      <th>nchapters</th>\n",
       "      <td>0.263502</td>\n",
       "      <td>0.309690</td>\n",
       "      <td>0.254478</td>\n",
       "      <td>0.285201</td>\n",
       "      <td>1.000000</td>\n",
       "      <td>NaN</td>\n",
       "      <td>0.299543</td>\n",
       "    </tr>\n",
       "    <tr>\n",
       "      <th>roles</th>\n",
       "      <td>NaN</td>\n",
       "      <td>NaN</td>\n",
       "      <td>NaN</td>\n",
       "      <td>NaN</td>\n",
       "      <td>NaN</td>\n",
       "      <td>NaN</td>\n",
       "      <td>NaN</td>\n",
       "    </tr>\n",
       "    <tr>\n",
       "      <th>incomplete_flag</th>\n",
       "      <td>-0.582110</td>\n",
       "      <td>-0.577331</td>\n",
       "      <td>-0.399286</td>\n",
       "      <td>-0.179906</td>\n",
       "      <td>0.299543</td>\n",
       "      <td>NaN</td>\n",
       "      <td>1.000000</td>\n",
       "    </tr>\n",
       "  </tbody>\n",
       "</table>\n",
       "</div>"
      ],
      "text/plain": [
       "                 last_event_DI   nevents  ndays_act  nplay_video  nchapters  \\\n",
       "last_event_DI         1.000000  0.958929   0.874306     0.298858   0.263502   \n",
       "nevents               0.958929  1.000000   0.904471     0.311638   0.309690   \n",
       "ndays_act             0.874306  0.904471   1.000000     0.281886   0.254478   \n",
       "nplay_video           0.298858  0.311638   0.281886     1.000000   0.285201   \n",
       "nchapters             0.263502  0.309690   0.254478     0.285201   1.000000   \n",
       "roles                      NaN       NaN        NaN          NaN        NaN   \n",
       "incomplete_flag      -0.582110 -0.577331  -0.399286    -0.179906   0.299543   \n",
       "\n",
       "                 roles  incomplete_flag  \n",
       "last_event_DI      NaN        -0.582110  \n",
       "nevents            NaN        -0.577331  \n",
       "ndays_act          NaN        -0.399286  \n",
       "nplay_video        NaN        -0.179906  \n",
       "nchapters          NaN         0.299543  \n",
       "roles              NaN              NaN  \n",
       "incomplete_flag    NaN         1.000000  "
      ]
     },
     "execution_count": 20,
     "metadata": {},
     "output_type": "execute_result"
    }
   ],
   "source": [
    "temp.corr()"
   ]
  },
  {
   "cell_type": "code",
   "execution_count": 21,
   "metadata": {},
   "outputs": [
    {
     "data": {
      "text/html": [
       "<div>\n",
       "<style scoped>\n",
       "    .dataframe tbody tr th:only-of-type {\n",
       "        vertical-align: middle;\n",
       "    }\n",
       "\n",
       "    .dataframe tbody tr th {\n",
       "        vertical-align: top;\n",
       "    }\n",
       "\n",
       "    .dataframe thead th {\n",
       "        text-align: right;\n",
       "    }\n",
       "</style>\n",
       "<table border=\"1\" class=\"dataframe\">\n",
       "  <thead>\n",
       "    <tr style=\"text-align: right;\">\n",
       "      <th></th>\n",
       "      <th>course_id</th>\n",
       "      <th>userid_DI</th>\n",
       "      <th>registered</th>\n",
       "      <th>viewed</th>\n",
       "      <th>explored</th>\n",
       "      <th>certified</th>\n",
       "      <th>final_cc_cname_DI</th>\n",
       "      <th>LoE_DI</th>\n",
       "      <th>YoB</th>\n",
       "      <th>gender</th>\n",
       "      <th>grade</th>\n",
       "      <th>start_time_DI</th>\n",
       "      <th>last_event_DI</th>\n",
       "      <th>nevents</th>\n",
       "      <th>ndays_act</th>\n",
       "      <th>nplay_video</th>\n",
       "      <th>nchapters</th>\n",
       "      <th>nforum_posts</th>\n",
       "      <th>roles</th>\n",
       "      <th>incomplete_flag</th>\n",
       "    </tr>\n",
       "  </thead>\n",
       "  <tbody>\n",
       "    <tr>\n",
       "      <th>34093</th>\n",
       "      <td>HarvardX/CS50x/2012</td>\n",
       "      <td>MHxPC130506390</td>\n",
       "      <td>1</td>\n",
       "      <td>1</td>\n",
       "      <td>0</td>\n",
       "      <td>0</td>\n",
       "      <td>United States</td>\n",
       "      <td>NaN</td>\n",
       "      <td>NaN</td>\n",
       "      <td>NaN</td>\n",
       "      <td>0</td>\n",
       "      <td>2012-08-06</td>\n",
       "      <td>NaT</td>\n",
       "      <td>NaN</td>\n",
       "      <td>2.0</td>\n",
       "      <td>NaN</td>\n",
       "      <td>2.0</td>\n",
       "      <td>0</td>\n",
       "      <td>NaN</td>\n",
       "      <td>1.0</td>\n",
       "    </tr>\n",
       "    <tr>\n",
       "      <th>257524</th>\n",
       "      <td>HarvardX/PH207x/2012_Fall</td>\n",
       "      <td>MHxPC130506390</td>\n",
       "      <td>1</td>\n",
       "      <td>0</td>\n",
       "      <td>0</td>\n",
       "      <td>0</td>\n",
       "      <td>United States</td>\n",
       "      <td>NaN</td>\n",
       "      <td>NaN</td>\n",
       "      <td>NaN</td>\n",
       "      <td>0</td>\n",
       "      <td>2012-08-06</td>\n",
       "      <td>2012-12-31</td>\n",
       "      <td>4.0</td>\n",
       "      <td>2.0</td>\n",
       "      <td>NaN</td>\n",
       "      <td>NaN</td>\n",
       "      <td>0</td>\n",
       "      <td>NaN</td>\n",
       "      <td>NaN</td>\n",
       "    </tr>\n",
       "    <tr>\n",
       "      <th>700</th>\n",
       "      <td>HarvardX/CB22x/2013_Spring</td>\n",
       "      <td>MHxPC130506390</td>\n",
       "      <td>1</td>\n",
       "      <td>0</td>\n",
       "      <td>0</td>\n",
       "      <td>0</td>\n",
       "      <td>United States</td>\n",
       "      <td>NaN</td>\n",
       "      <td>NaN</td>\n",
       "      <td>NaN</td>\n",
       "      <td>0</td>\n",
       "      <td>2012-12-28</td>\n",
       "      <td>2013-11-17</td>\n",
       "      <td>NaN</td>\n",
       "      <td>2.0</td>\n",
       "      <td>NaN</td>\n",
       "      <td>NaN</td>\n",
       "      <td>0</td>\n",
       "      <td>NaN</td>\n",
       "      <td>1.0</td>\n",
       "    </tr>\n",
       "    <tr>\n",
       "      <th>200592</th>\n",
       "      <td>HarvardX/ER22x/2013_Spring</td>\n",
       "      <td>MHxPC130506390</td>\n",
       "      <td>1</td>\n",
       "      <td>0</td>\n",
       "      <td>0</td>\n",
       "      <td>0</td>\n",
       "      <td>United States</td>\n",
       "      <td>NaN</td>\n",
       "      <td>NaN</td>\n",
       "      <td>NaN</td>\n",
       "      <td>0</td>\n",
       "      <td>2012-12-28</td>\n",
       "      <td>NaT</td>\n",
       "      <td>NaN</td>\n",
       "      <td>2.0</td>\n",
       "      <td>NaN</td>\n",
       "      <td>NaN</td>\n",
       "      <td>0</td>\n",
       "      <td>NaN</td>\n",
       "      <td>1.0</td>\n",
       "    </tr>\n",
       "    <tr>\n",
       "      <th>299132</th>\n",
       "      <td>HarvardX/PH278x/2013_Spring</td>\n",
       "      <td>MHxPC130506390</td>\n",
       "      <td>1</td>\n",
       "      <td>0</td>\n",
       "      <td>0</td>\n",
       "      <td>0</td>\n",
       "      <td>United States</td>\n",
       "      <td>NaN</td>\n",
       "      <td>NaN</td>\n",
       "      <td>NaN</td>\n",
       "      <td>0</td>\n",
       "      <td>2012-12-28</td>\n",
       "      <td>NaT</td>\n",
       "      <td>NaN</td>\n",
       "      <td>2.0</td>\n",
       "      <td>NaN</td>\n",
       "      <td>NaN</td>\n",
       "      <td>0</td>\n",
       "      <td>NaN</td>\n",
       "      <td>1.0</td>\n",
       "    </tr>\n",
       "  </tbody>\n",
       "</table>\n",
       "</div>"
      ],
      "text/plain": [
       "                          course_id       userid_DI  registered  viewed  \\\n",
       "34093           HarvardX/CS50x/2012  MHxPC130506390           1       1   \n",
       "257524    HarvardX/PH207x/2012_Fall  MHxPC130506390           1       0   \n",
       "700      HarvardX/CB22x/2013_Spring  MHxPC130506390           1       0   \n",
       "200592   HarvardX/ER22x/2013_Spring  MHxPC130506390           1       0   \n",
       "299132  HarvardX/PH278x/2013_Spring  MHxPC130506390           1       0   \n",
       "\n",
       "        explored  certified final_cc_cname_DI LoE_DI  YoB gender grade  \\\n",
       "34093          0          0     United States    NaN  NaN    NaN     0   \n",
       "257524         0          0     United States    NaN  NaN    NaN     0   \n",
       "700            0          0     United States    NaN  NaN    NaN     0   \n",
       "200592         0          0     United States    NaN  NaN    NaN     0   \n",
       "299132         0          0     United States    NaN  NaN    NaN     0   \n",
       "\n",
       "       start_time_DI last_event_DI  nevents  ndays_act  nplay_video  \\\n",
       "34093     2012-08-06           NaT      NaN        2.0          NaN   \n",
       "257524    2012-08-06    2012-12-31      4.0        2.0          NaN   \n",
       "700       2012-12-28    2013-11-17      NaN        2.0          NaN   \n",
       "200592    2012-12-28           NaT      NaN        2.0          NaN   \n",
       "299132    2012-12-28           NaT      NaN        2.0          NaN   \n",
       "\n",
       "        nchapters  nforum_posts  roles  incomplete_flag  \n",
       "34093         2.0             0    NaN              1.0  \n",
       "257524        NaN             0    NaN              NaN  \n",
       "700           NaN             0    NaN              1.0  \n",
       "200592        NaN             0    NaN              1.0  \n",
       "299132        NaN             0    NaN              1.0  "
      ]
     },
     "execution_count": 21,
     "metadata": {},
     "output_type": "execute_result"
    }
   ],
   "source": [
    "data[data['userid_DI'] == 'MHxPC130506390'].sort_values(by='start_time_DI')"
   ]
  },
  {
   "cell_type": "markdown",
   "metadata": {},
   "source": [
    "#### null corr\n",
    "\n",
    "- we also notice that they also have high correlation between \"the null \"\n",
    "- what i mean by that is : \"when on is null the other have high possibility to be null\""
   ]
  }
 ],
 "metadata": {
  "kernelspec": {
   "display_name": "base",
   "language": "python",
   "name": "python3"
  },
  "language_info": {
   "codemirror_mode": {
    "name": "ipython",
    "version": 3
   },
   "file_extension": ".py",
   "mimetype": "text/x-python",
   "name": "python",
   "nbconvert_exporter": "python",
   "pygments_lexer": "ipython3",
   "version": "3.12.4"
  }
 },
 "nbformat": 4,
 "nbformat_minor": 2
}
