{
 "cells": [
  {
   "cell_type": "code",
   "execution_count": 2,
   "metadata": {},
   "outputs": [],
   "source": [
    "import os\n",
    "import pandas as pd\n",
    "import networkx as nx\n",
    "import kagglehub\n",
    "\n",
    "from sklearn.feature_extraction.text import TfidfVectorizer\n",
    "from sklearn.metrics.pairwise import cosine_similarity\n",
    "from sklearn.cluster import KMeans\n",
    "import seaborn as sns\n",
    "import matplotlib.pyplot as plt\n",
    "import pickle\n",
    "plt.style.use('ggplot')"
   ]
  },
  {
   "cell_type": "code",
   "execution_count": 11,
   "metadata": {},
   "outputs": [],
   "source": [
    "df = pd.read_csv('data\\\\coursera\\\\coursera_processed_data.csv')"
   ]
  },
  {
   "cell_type": "code",
   "execution_count": 58,
   "metadata": {},
   "outputs": [],
   "source": [
    "def recommended_courses_from_one(course_id, similarity_matrix, df, top_n=5):\n",
    "      course_idx = df[df['ID'] == course_id].index[0]\n",
    "      similarity_scores = list(enumerate(similarity_matrix[course_idx]))\n",
    "      sorted_courses = sorted(similarity_scores, key=lambda x: x[1], reverse=True)[1:top_n+1]\n",
    "      recommended_course_ids = [(df.iloc[i[0]]['ID'], i[1]) for i in sorted_courses]\n",
    "      return recommended_course_ids"
   ]
  },
  {
   "cell_type": "code",
   "execution_count": null,
   "metadata": {},
   "outputs": [
    {
     "data": {
      "text/plain": [
       "[(1598, 0.5629490350329864),\n",
       " (3148, 0.560473823687767),\n",
       " (935, 0.5150951686232218),\n",
       " (2094, 0.4600347234643843),\n",
       " (1868, 0.42586492102685664)]"
      ]
     },
     "execution_count": 59,
     "metadata": {},
     "output_type": "execute_result"
    }
   ],
   "source": [
    "with open('similarity_matrix.pkl', 'rb') as file:\n",
    "    similarity_matrix = pickle.load(file)"
   ]
  },
  {
   "cell_type": "code",
   "execution_count": 62,
   "metadata": {},
   "outputs": [],
   "source": [
    "def recommended_courses(courses_id, similarity_matrix, df, top_n=5):\n",
    "    recommended = {}\n",
    "    for course_id in courses_id:\n",
    "        courses = recommended_courses_from_one(course_id, similarity_matrix, df)\n",
    "        for course in courses:\n",
    "            if(course[0] in recommended):\n",
    "                recommended[course[0]] += course[1]\n",
    "            else:\n",
    "                recommended[course[0]] = course[1]\n",
    "    recommended = sorted(recommended.items(), key=lambda item: item[1], reverse=True)\n",
    "    return recommended[0: top_n]"
   ]
  },
  {
   "cell_type": "code",
   "execution_count": 65,
   "metadata": {},
   "outputs": [
    {
     "data": {
      "text/plain": [
       "[(349, 0.8045343400325128),\n",
       " (700, 0.7387735743253268),\n",
       " (3035, 0.71495840239118),\n",
       " (2783, 0.6990728364602588),\n",
       " (1907, 0.645820664632804)]"
      ]
     },
     "execution_count": 65,
     "metadata": {},
     "output_type": "execute_result"
    }
   ],
   "source": [
    "courses_id = [32, 3, 12, 90]\n",
    "recommended_courses(courses_id, similarity_matrix, df)"
   ]
  }
 ],
 "metadata": {
  "kernelspec": {
   "display_name": "base",
   "language": "python",
   "name": "python3"
  },
  "language_info": {
   "codemirror_mode": {
    "name": "ipython",
    "version": 3
   },
   "file_extension": ".py",
   "mimetype": "text/x-python",
   "name": "python",
   "nbconvert_exporter": "python",
   "pygments_lexer": "ipython3",
   "version": "3.12.4"
  }
 },
 "nbformat": 4,
 "nbformat_minor": 2
}
