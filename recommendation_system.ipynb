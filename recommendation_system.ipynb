{
  "cells": [
    {
      "cell_type": "markdown",
      "metadata": {
        "id": "MI-Vs9Keu2qC"
      },
      "source": [
        "## ***import library***"
      ]
    },
    {
      "cell_type": "code",
      "execution_count": 44,
      "metadata": {
        "colab": {
          "base_uri": "https://localhost:8080/"
        },
        "id": "0YnpVTnKtG3H",
        "outputId": "4b5c37df-b4b0-4cfb-d556-0d8100e14519"
      },
      "outputs": [
        {
          "name": "stderr",
          "output_type": "stream",
          "text": [
            "[nltk_data] Downloading package punkt to\n",
            "[nltk_data]     C:\\Users\\jehad\\AppData\\Roaming\\nltk_data...\n",
            "[nltk_data]   Unzipping tokenizers\\punkt.zip.\n",
            "[nltk_data] Downloading package wordnet to\n",
            "[nltk_data]     C:\\Users\\jehad\\AppData\\Roaming\\nltk_data...\n",
            "[nltk_data] Downloading package stopwords to\n",
            "[nltk_data]     C:\\Users\\jehad\\AppData\\Roaming\\nltk_data...\n"
          ]
        },
        {
          "name": "stdout",
          "output_type": "stream",
          "text": [
            "Dependencies Imported\n"
          ]
        },
        {
          "name": "stderr",
          "output_type": "stream",
          "text": [
            "[nltk_data]   Unzipping corpora\\stopwords.zip.\n",
            "[nltk_data] Downloading package wordnet to\n",
            "[nltk_data]     C:\\Users\\jehad\\AppData\\Roaming\\nltk_data...\n",
            "[nltk_data]   Package wordnet is already up-to-date!\n"
          ]
        }
      ],
      "source": [
        "import os\n",
        "import pandas as pd\n",
        "import numpy as np\n",
        "import re\n",
        "\n",
        "import seaborn as sns\n",
        "import matplotlib.pyplot as plt\n",
        "plt.style.use('ggplot')\n",
        "\n",
        "from sklearn.feature_extraction.text import TfidfVectorizer\n",
        "from sklearn.metrics.pairwise import cosine_similarity\n",
        "from sklearn.decomposition import TruncatedSVD\n",
        "\n",
        "from scipy.cluster.hierarchy import linkage\n",
        "from scipy.cluster.hierarchy import dendrogram\n",
        "from scipy.cluster.hierarchy import fcluster\n",
        "\n",
        "from collections import Counter\n",
        "from gensim.models.phrases import Phrases, Phraser\n",
        "\n",
        "import pickle\n",
        "\n",
        "import nltk\n",
        "from nltk.corpus import stopwords\n",
        "from nltk.tokenize import word_tokenize\n",
        "from nltk.corpus import stopwords\n",
        "from nltk.stem import PorterStemmer, WordNetLemmatizer\n",
        "\n",
        "from nltk.stem import WordNetLemmatizer\n",
        "from nltk.corpus import wordnet\n",
        "\n",
        "nltk.download('punkt', force=True)\n",
        "nltk.download('wordnet', force=True)\n",
        "nltk.download('stopwords', force=True)\n",
        "\n",
        "try:\n",
        "    nltk.data.find('corpora/wordnet')\n",
        "except LookupError:\n",
        "    nltk.download('wordnet')\n",
        "\n",
        "\n",
        "print('Dependencies Imported')"
      ]
    },
    {
      "cell_type": "code",
      "execution_count": 45,
      "metadata": {},
      "outputs": [],
      "source": [
        "# import nltk\n",
        "# nltk.download('omw-1.4')\n",
        "# nltk.download('wordnet')\n",
        "# nltk.download('wordnet2022')\n",
        "\n",
        "# !cp -rf /usr/share/nltk_data/corpora/wordnet2022 /usr/share/nltk_data/corpora/wordnet"
      ]
    },
    {
      "cell_type": "code",
      "execution_count": 46,
      "metadata": {},
      "outputs": [],
      "source": [
        "data = pd.read_csv('data\\\\coursera\\\\coursera_processed_data.csv')"
      ]
    },
    {
      "cell_type": "code",
      "execution_count": null,
      "metadata": {},
      "outputs": [],
      "source": [
        "training_data = data.copy()\n",
        "data['tags'] = training_data['Course Name'] + ' ' + training_data['Course Description'] + ' ' + training_data['Skills']\n",
        "training_data = data[['Course Name', 'tags']]"
      ]
    },
    {
      "cell_type": "code",
      "execution_count": 48,
      "metadata": {},
      "outputs": [
        {
          "data": {
            "text/html": [
              "<div>\n",
              "<style scoped>\n",
              "    .dataframe tbody tr th:only-of-type {\n",
              "        vertical-align: middle;\n",
              "    }\n",
              "\n",
              "    .dataframe tbody tr th {\n",
              "        vertical-align: top;\n",
              "    }\n",
              "\n",
              "    .dataframe thead th {\n",
              "        text-align: right;\n",
              "    }\n",
              "</style>\n",
              "<table border=\"1\" class=\"dataframe\">\n",
              "  <thead>\n",
              "    <tr style=\"text-align: right;\">\n",
              "      <th></th>\n",
              "      <th>Course Name</th>\n",
              "      <th>tags</th>\n",
              "    </tr>\n",
              "  </thead>\n",
              "  <tbody>\n",
              "    <tr>\n",
              "      <th>0</th>\n",
              "      <td>Write A Feature Length Screenplay For Film Or ...</td>\n",
              "      <td>Write A Feature Length Screenplay For Film Or ...</td>\n",
              "    </tr>\n",
              "    <tr>\n",
              "      <th>1</th>\n",
              "      <td>Business Strategy: Business Model Canvas Analy...</td>\n",
              "      <td>Business Strategy: Business Model Canvas Analy...</td>\n",
              "    </tr>\n",
              "    <tr>\n",
              "      <th>2</th>\n",
              "      <td>Silicon Thin Film Solar Cells</td>\n",
              "      <td>Silicon Thin Film Solar Cells This course cons...</td>\n",
              "    </tr>\n",
              "    <tr>\n",
              "      <th>3</th>\n",
              "      <td>Finance Managers</td>\n",
              "      <td>Finance Managers When comes numbers, meets eye...</td>\n",
              "    </tr>\n",
              "    <tr>\n",
              "      <th>4</th>\n",
              "      <td>Retrieve Data using Single-Table SQL Queries</td>\n",
              "      <td>Retrieve Data using Single-Table SQL Queries I...</td>\n",
              "    </tr>\n",
              "  </tbody>\n",
              "</table>\n",
              "</div>"
            ],
            "text/plain": [
              "                                         Course Name  \\\n",
              "0  Write A Feature Length Screenplay For Film Or ...   \n",
              "1  Business Strategy: Business Model Canvas Analy...   \n",
              "2                      Silicon Thin Film Solar Cells   \n",
              "3                                   Finance Managers   \n",
              "4       Retrieve Data using Single-Table SQL Queries   \n",
              "\n",
              "                                                tags  \n",
              "0  Write A Feature Length Screenplay For Film Or ...  \n",
              "1  Business Strategy: Business Model Canvas Analy...  \n",
              "2  Silicon Thin Film Solar Cells This course cons...  \n",
              "3  Finance Managers When comes numbers, meets eye...  \n",
              "4  Retrieve Data using Single-Table SQL Queries I...  "
            ]
          },
          "execution_count": 48,
          "metadata": {},
          "output_type": "execute_result"
        }
      ],
      "source": [
        "training_data.head()"
      ]
    },
    {
      "cell_type": "code",
      "execution_count": 49,
      "metadata": {},
      "outputs": [
        {
          "name": "stdout",
          "output_type": "stream",
          "text": [
            "TF-IDF matrix shape: (3424, 5000)\n"
          ]
        }
      ],
      "source": [
        "vectorizer = TfidfVectorizer(stop_words='english', max_features=5000)\n",
        "tfidf_matrix = vectorizer.fit_transform(training_data['tags'])\n",
        "print(\"TF-IDF matrix shape:\", tfidf_matrix.shape)"
      ]
    },
    {
      "cell_type": "code",
      "execution_count": 50,
      "metadata": {},
      "outputs": [
        {
          "name": "stdout",
          "output_type": "stream",
          "text": [
            "Reduced TF-IDF matrix shape: (3424, 100)\n"
          ]
        }
      ],
      "source": [
        "n_components = 100\n",
        "svd = TruncatedSVD(n_components=n_components, random_state=42)\n",
        "tfidf_matrix = svd.fit_transform(tfidf_matrix)\n",
        "\n",
        "print(\"Reduced TF-IDF matrix shape:\", tfidf_matrix.shape)"
      ]
    },
    {
      "cell_type": "code",
      "execution_count": 51,
      "metadata": {},
      "outputs": [
        {
          "name": "stdout",
          "output_type": "stream",
          "text": [
            "0.06939888492365429\n"
          ]
        }
      ],
      "source": [
        "similarity_matrix = cosine_similarity(tfidf_matrix)\n",
        "print(similarity_matrix[0][1])"
      ]
    },
    {
      "cell_type": "code",
      "execution_count": 52,
      "metadata": {},
      "outputs": [],
      "source": [
        "def normalize_rating(rating_str):\n",
        "    \"\"\"\n",
        "    Normalize the course rating to a 0-1 scale.\n",
        "    \"\"\"\n",
        "    try:\n",
        "        return (float(rating_str) - 0) / (5 - 0)  # Normalize to 0-1\n",
        "    except ValueError:\n",
        "        return 0  \n"
      ]
    },
    {
      "cell_type": "code",
      "execution_count": 81,
      "metadata": {},
      "outputs": [],
      "source": [
        "def get_recommendations(course_id, data, similarity_matrix, top_n=3, rating_weight=0.05):\n",
        "    \"\"\"\n",
        "    @param course_id \n",
        "    Get top N course recommendations based on similarity to the given course name.\n",
        "    \"\"\"\n",
        "    course_id = data[data['ID'] == course_id]\n",
        "    course_idx = course_id.index[0]\n",
        "    similarity_scores = list(enumerate(similarity_matrix[course_idx]))\n",
        "    \n",
        "    recommendations = []\n",
        "    for idx, similarity_score in sorted(similarity_scores, key=lambda x: x[1], reverse=True)[1:top_n+1]:\n",
        "        course_data = data.iloc[idx]\n",
        "        normalized_rating = normalize_rating(course_data.get('Course Rating', '0'))\n",
        "\n",
        "        recommendations.append({\n",
        "            \"course_id\": course_data[\"ID\"],\n",
        "            \"course_name\": course_data['Course Name'],\n",
        "            \"course_url\": course_data.get('Course URL', ''),\n",
        "            \"rating\": course_data['Course Rating'],\n",
        "            \"institution\": course_data.get('University', 'Unknown'),\n",
        "            \"difficulty_level\": course_data.get('Difficulty Level', 'Unknown'),\n",
        "            \"similarity\": similarity_score,\n",
        "            \"final_score\": similarity_score * (1 - rating_weight) + normalized_rating * rating_weight \n",
        "        })\n",
        "\n",
        "    return sorted(recommendations, key=lambda x: x['final_score'], reverse=True)"
      ]
    },
    {
      "cell_type": "code",
      "execution_count": 65,
      "metadata": {},
      "outputs": [],
      "source": [
        "temp = get_recommendations(1, data, similarity_matrix)\n"
      ]
    },
    {
      "cell_type": "code",
      "execution_count": 67,
      "metadata": {},
      "outputs": [
        {
          "data": {
            "text/plain": [
              "1"
            ]
          },
          "execution_count": 67,
          "metadata": {},
          "output_type": "execute_result"
        }
      ],
      "source": [
        "temp[0]['course_id']"
      ]
    },
    {
      "cell_type": "code",
      "execution_count": 94,
      "metadata": {},
      "outputs": [],
      "source": [
        "def get_recommendations_from_list_of_courses(courses_id, data, similarity_matrix, top_n=5):\n",
        "    recommended = {}\n",
        "    for course_id in courses_id:\n",
        "        courses = get_recommendations(course_id=course_id,similarity_matrix= similarity_matrix, data= data)\n",
        "        for course in courses:\n",
        "            if(course['course_id'] in recommended):\n",
        "                recommended[course['course_id']] += course['similarity']\n",
        "            else:\n",
        "                recommended[course['course_id']] = course['similarity']\n",
        "    recommended = sorted(recommended.items(), key=lambda item: item[1], reverse=True)\n",
        "    return recommended[0: top_n]\n",
        "    \n"
      ]
    },
    {
      "cell_type": "code",
      "execution_count": 83,
      "metadata": {},
      "outputs": [
        {
          "data": {
            "text/plain": [
              "[(407, 0.9960503751081485),\n",
              " (1448, 0.9603102360697856),\n",
              " (527, 0.9503480196074857),\n",
              " (2331, 0.9486944271440074),\n",
              " (193, 0.942407558233371)]"
            ]
          },
          "execution_count": 83,
          "metadata": {},
          "output_type": "execute_result"
        }
      ],
      "source": [
        "get_recommendations_from_list_of_courses([24, 35, 28], data, similarity_matrix)"
      ]
    },
    {
      "cell_type": "code",
      "execution_count": 93,
      "metadata": {},
      "outputs": [
        {
          "data": {
            "text/html": [
              "<div>\n",
              "<style scoped>\n",
              "    .dataframe tbody tr th:only-of-type {\n",
              "        vertical-align: middle;\n",
              "    }\n",
              "\n",
              "    .dataframe tbody tr th {\n",
              "        vertical-align: top;\n",
              "    }\n",
              "\n",
              "    .dataframe thead th {\n",
              "        text-align: right;\n",
              "    }\n",
              "</style>\n",
              "<table border=\"1\" class=\"dataframe\">\n",
              "  <thead>\n",
              "    <tr style=\"text-align: right;\">\n",
              "      <th></th>\n",
              "      <th>Course Name</th>\n",
              "      <th>University</th>\n",
              "      <th>Difficulty Level</th>\n",
              "      <th>Course Rating</th>\n",
              "      <th>Course URL</th>\n",
              "      <th>Course Description</th>\n",
              "      <th>Skills</th>\n",
              "      <th>ID</th>\n",
              "      <th>tags</th>\n",
              "    </tr>\n",
              "  </thead>\n",
              "  <tbody>\n",
              "    <tr>\n",
              "      <th>192</th>\n",
              "      <td>AWS Elastic Beanstalk:Deploy Python(Flask) Web...</td>\n",
              "      <td>Coursera Project Network</td>\n",
              "      <td>Beginner</td>\n",
              "      <td>5.0</td>\n",
              "      <td>https://www.coursera.org/learn/python-aws-elas...</td>\n",
              "      <td>In 1-hour long project-based course, learn cre...</td>\n",
              "      <td>['Python', 'Programming', 'server', 'log', 'c'...</td>\n",
              "      <td>193</td>\n",
              "      <td>AWS Elastic Beanstalk:Deploy Python(Flask) Web...</td>\n",
              "    </tr>\n",
              "  </tbody>\n",
              "</table>\n",
              "</div>"
            ],
            "text/plain": [
              "                                           Course Name  \\\n",
              "192  AWS Elastic Beanstalk:Deploy Python(Flask) Web...   \n",
              "\n",
              "                   University Difficulty Level  Course Rating  \\\n",
              "192  Coursera Project Network         Beginner            5.0   \n",
              "\n",
              "                                            Course URL  \\\n",
              "192  https://www.coursera.org/learn/python-aws-elas...   \n",
              "\n",
              "                                    Course Description  \\\n",
              "192  In 1-hour long project-based course, learn cre...   \n",
              "\n",
              "                                                Skills   ID  \\\n",
              "192  ['Python', 'Programming', 'server', 'log', 'c'...  193   \n",
              "\n",
              "                                                  tags  \n",
              "192  AWS Elastic Beanstalk:Deploy Python(Flask) Web...  "
            ]
          },
          "execution_count": 93,
          "metadata": {},
          "output_type": "execute_result"
        }
      ],
      "source": [
        "data[data['ID'] == 193]"
      ]
    },
    {
      "cell_type": "code",
      "execution_count": null,
      "metadata": {},
      "outputs": [],
      "source": [
        "pickle.dump(similarity_matrix, open('similarity_matrix.pkl', 'wb'))"
      ]
    }
  ],
  "metadata": {
    "colab": {
      "provenance": []
    },
    "kernelspec": {
      "display_name": "base",
      "language": "python",
      "name": "python3"
    },
    "language_info": {
      "codemirror_mode": {
        "name": "ipython",
        "version": 3
      },
      "file_extension": ".py",
      "mimetype": "text/x-python",
      "name": "python",
      "nbconvert_exporter": "python",
      "pygments_lexer": "ipython3",
      "version": "3.12.4"
    }
  },
  "nbformat": 4,
  "nbformat_minor": 0
}
